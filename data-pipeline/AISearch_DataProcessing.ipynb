{
  "nbformat": 4,
  "nbformat_minor": 0,
  "metadata": {
    "colab": {
      "provenance": [],
      "authorship_tag": "ABX9TyOuowzrhzCsexuR+Eup/kC5",
      "include_colab_link": true
    },
    "kernelspec": {
      "name": "python3",
      "display_name": "Python 3"
    },
    "language_info": {
      "name": "python"
    }
  },
  "cells": [
    {
      "cell_type": "markdown",
      "metadata": {
        "id": "view-in-github",
        "colab_type": "text"
      },
      "source": [
        "<a href=\"https://colab.research.google.com/github/zhuodannychen/ai-search-engine/blob/main/AISearch_DataProcessing.ipynb\" target=\"_parent\"><img src=\"https://colab.research.google.com/assets/colab-badge.svg\" alt=\"Open In Colab\"/></a>"
      ]
    },
    {
      "cell_type": "code",
      "execution_count": 1,
      "metadata": {
        "colab": {
          "base_uri": "https://localhost:8080/"
        },
        "id": "1pnfePbVesi9",
        "outputId": "c44301fa-599d-480b-b527-36af7fa340a3"
      },
      "outputs": [
        {
          "output_type": "stream",
          "name": "stdout",
          "text": [
            "Requirement already satisfied: google-cloud-bigquery in /usr/local/lib/python3.10/dist-packages (3.21.0)\n",
            "Requirement already satisfied: google-api-core[grpc]!=2.0.*,!=2.1.*,!=2.10.*,!=2.2.*,!=2.3.*,!=2.4.*,!=2.5.*,!=2.6.*,!=2.7.*,!=2.8.*,!=2.9.*,<3.0.0dev,>=1.34.1 in /usr/local/lib/python3.10/dist-packages (from google-cloud-bigquery) (2.11.1)\n",
            "Requirement already satisfied: google-auth<3.0.0dev,>=2.14.1 in /usr/local/lib/python3.10/dist-packages (from google-cloud-bigquery) (2.27.0)\n",
            "Requirement already satisfied: google-cloud-core<3.0.0dev,>=1.6.0 in /usr/local/lib/python3.10/dist-packages (from google-cloud-bigquery) (2.3.3)\n",
            "Requirement already satisfied: google-resumable-media<3.0dev,>=0.6.0 in /usr/local/lib/python3.10/dist-packages (from google-cloud-bigquery) (2.7.0)\n",
            "Requirement already satisfied: packaging>=20.0.0 in /usr/local/lib/python3.10/dist-packages (from google-cloud-bigquery) (24.0)\n",
            "Requirement already satisfied: python-dateutil<3.0dev,>=2.7.2 in /usr/local/lib/python3.10/dist-packages (from google-cloud-bigquery) (2.8.2)\n",
            "Requirement already satisfied: requests<3.0.0dev,>=2.21.0 in /usr/local/lib/python3.10/dist-packages (from google-cloud-bigquery) (2.31.0)\n",
            "Requirement already satisfied: googleapis-common-protos<2.0.dev0,>=1.56.2 in /usr/local/lib/python3.10/dist-packages (from google-api-core[grpc]!=2.0.*,!=2.1.*,!=2.10.*,!=2.2.*,!=2.3.*,!=2.4.*,!=2.5.*,!=2.6.*,!=2.7.*,!=2.8.*,!=2.9.*,<3.0.0dev,>=1.34.1->google-cloud-bigquery) (1.63.0)\n",
            "Requirement already satisfied: protobuf!=3.20.0,!=3.20.1,!=4.21.0,!=4.21.1,!=4.21.2,!=4.21.3,!=4.21.4,!=4.21.5,<5.0.0.dev0,>=3.19.5 in /usr/local/lib/python3.10/dist-packages (from google-api-core[grpc]!=2.0.*,!=2.1.*,!=2.10.*,!=2.2.*,!=2.3.*,!=2.4.*,!=2.5.*,!=2.6.*,!=2.7.*,!=2.8.*,!=2.9.*,<3.0.0dev,>=1.34.1->google-cloud-bigquery) (3.20.3)\n",
            "Requirement already satisfied: grpcio<2.0dev,>=1.33.2 in /usr/local/lib/python3.10/dist-packages (from google-api-core[grpc]!=2.0.*,!=2.1.*,!=2.10.*,!=2.2.*,!=2.3.*,!=2.4.*,!=2.5.*,!=2.6.*,!=2.7.*,!=2.8.*,!=2.9.*,<3.0.0dev,>=1.34.1->google-cloud-bigquery) (1.62.2)\n",
            "Requirement already satisfied: grpcio-status<2.0.dev0,>=1.33.2 in /usr/local/lib/python3.10/dist-packages (from google-api-core[grpc]!=2.0.*,!=2.1.*,!=2.10.*,!=2.2.*,!=2.3.*,!=2.4.*,!=2.5.*,!=2.6.*,!=2.7.*,!=2.8.*,!=2.9.*,<3.0.0dev,>=1.34.1->google-cloud-bigquery) (1.48.2)\n",
            "Requirement already satisfied: cachetools<6.0,>=2.0.0 in /usr/local/lib/python3.10/dist-packages (from google-auth<3.0.0dev,>=2.14.1->google-cloud-bigquery) (5.3.3)\n",
            "Requirement already satisfied: pyasn1-modules>=0.2.1 in /usr/local/lib/python3.10/dist-packages (from google-auth<3.0.0dev,>=2.14.1->google-cloud-bigquery) (0.4.0)\n",
            "Requirement already satisfied: rsa<5,>=3.1.4 in /usr/local/lib/python3.10/dist-packages (from google-auth<3.0.0dev,>=2.14.1->google-cloud-bigquery) (4.9)\n",
            "Requirement already satisfied: google-crc32c<2.0dev,>=1.0 in /usr/local/lib/python3.10/dist-packages (from google-resumable-media<3.0dev,>=0.6.0->google-cloud-bigquery) (1.5.0)\n",
            "Requirement already satisfied: six>=1.5 in /usr/local/lib/python3.10/dist-packages (from python-dateutil<3.0dev,>=2.7.2->google-cloud-bigquery) (1.16.0)\n",
            "Requirement already satisfied: charset-normalizer<4,>=2 in /usr/local/lib/python3.10/dist-packages (from requests<3.0.0dev,>=2.21.0->google-cloud-bigquery) (3.3.2)\n",
            "Requirement already satisfied: idna<4,>=2.5 in /usr/local/lib/python3.10/dist-packages (from requests<3.0.0dev,>=2.21.0->google-cloud-bigquery) (3.7)\n",
            "Requirement already satisfied: urllib3<3,>=1.21.1 in /usr/local/lib/python3.10/dist-packages (from requests<3.0.0dev,>=2.21.0->google-cloud-bigquery) (2.0.7)\n",
            "Requirement already satisfied: certifi>=2017.4.17 in /usr/local/lib/python3.10/dist-packages (from requests<3.0.0dev,>=2.21.0->google-cloud-bigquery) (2024.2.2)\n",
            "Requirement already satisfied: pyasn1<0.7.0,>=0.4.6 in /usr/local/lib/python3.10/dist-packages (from pyasn1-modules>=0.2.1->google-auth<3.0.0dev,>=2.14.1->google-cloud-bigquery) (0.6.0)\n"
          ]
        }
      ],
      "source": [
        "!pip install --upgrade google-cloud-bigquery"
      ]
    },
    {
      "cell_type": "code",
      "source": [
        "!pip install nltk beautifulsoup4"
      ],
      "metadata": {
        "id": "5pF1KqoKuP7u"
      },
      "execution_count": null,
      "outputs": []
    },
    {
      "cell_type": "code",
      "source": [
        "from google.colab import auth\n",
        "auth.authenticate_user()\n",
        "print('Authenticated')"
      ],
      "metadata": {
        "colab": {
          "base_uri": "https://localhost:8080/"
        },
        "id": "mfjh9W7xe3FA",
        "outputId": "6dc840c9-127e-4edb-870b-26484fceb71e"
      },
      "execution_count": 2,
      "outputs": [
        {
          "output_type": "stream",
          "name": "stdout",
          "text": [
            "Authenticated\n"
          ]
        }
      ]
    },
    {
      "cell_type": "code",
      "source": [
        "import pandas as pd\n",
        "\n",
        "\n",
        "project_id = 'ai-semantic-search'\n",
        "\n",
        "query = \"\"\"\n",
        "WITH RankedAnswers AS (\n",
        "  SELECT\n",
        "    q.id AS question_id,\n",
        "    q.title AS question_title,\n",
        "    q.body AS question_body,\n",
        "    q.score AS question_score,\n",
        "    q.tags AS question_tags,\n",
        "    a.id AS answer_id,\n",
        "    a.body AS answer_body,\n",
        "    a.score AS answer_score,\n",
        "    ROW_NUMBER() OVER (PARTITION BY q.id ORDER BY a.score DESC) as answer_rank\n",
        "  FROM\n",
        "    `bigquery-public-data.stackoverflow.posts_questions` AS q\n",
        "  LEFT JOIN\n",
        "    `bigquery-public-data.stackoverflow.posts_answers` AS a\n",
        "  ON\n",
        "    q.id = a.parent_id\n",
        "  WHERE\n",
        "    EXTRACT(YEAR FROM q.creation_date) = 2019\n",
        "    AND a.score > 1\n",
        ")\n",
        "\n",
        "SELECT\n",
        "  question_id,\n",
        "  question_title,\n",
        "  question_body,\n",
        "  question_score,\n",
        "  question_tags,\n",
        "  answer_id,\n",
        "  answer_body,\n",
        "  answer_score\n",
        "FROM\n",
        "  RankedAnswers\n",
        "WHERE\n",
        "  answer_rank <= 3\n",
        "ORDER BY\n",
        "  question_score DESC, answer_score DESC\n",
        "LIMIT 100\n",
        "\"\"\"\n",
        "\n",
        "df = pd.read_gbq(query, project_id=project_id, dialect='standard')\n"
      ],
      "metadata": {
        "id": "cOhPmcK3e6yr"
      },
      "execution_count": 21,
      "outputs": []
    },
    {
      "cell_type": "code",
      "source": [
        "df.head()"
      ],
      "metadata": {
        "colab": {
          "base_uri": "https://localhost:8080/",
          "height": 293
        },
        "id": "6ocyM2jOu9tl",
        "outputId": "9bfabeaf-0cd5-4797-c80c-6bd9edd1c81e"
      },
      "execution_count": 22,
      "outputs": [
        {
          "output_type": "execute_result",
          "data": {
            "text/plain": [
              "   question_id                                     question_title  \\\n",
              "0     55921442  How to fix \"ReferenceError: primordials is not...   \n",
              "1     55921442  How to fix \"ReferenceError: primordials is not...   \n",
              "2     55921442  How to fix \"ReferenceError: primordials is not...   \n",
              "3     58211880  \"Uncaught SyntaxError: Cannot use import state...   \n",
              "4     58211880  \"Uncaught SyntaxError: Cannot use import state...   \n",
              "\n",
              "                                       question_body  question_score  \\\n",
              "0  <p>I have installed Node.js modules by 'npm in...             804   \n",
              "1  <p>I have installed Node.js modules by 'npm in...             804   \n",
              "2  <p>I have installed Node.js modules by 'npm in...             804   \n",
              "3  <p>I'm using ArcGIS JSAPI 4.12 and wish to use...             796   \n",
              "4  <p>I'm using ArcGIS JSAPI 4.12 and wish to use...             796   \n",
              "\n",
              "                                  question_tags  answer_id  \\\n",
              "0                   node.js|sass|gulp|gulp-sass   55926692   \n",
              "1                   node.js|sass|gulp|gulp-sass   58394828   \n",
              "2                   node.js|sass|gulp|gulp-sass   60921145   \n",
              "3  javascript|ecmascript-6|arcgis|arcgis-js-api   58679392   \n",
              "4  javascript|ecmascript-6|arcgis|arcgis-js-api   64655153   \n",
              "\n",
              "                                         answer_body  answer_score  \n",
              "0  <p>I hit the same error. I suspect you're usin...           868  \n",
              "1  <p>We encountered the same issue when updating...           820  \n",
              "2  <h1>Fix it in one minute:</h1>\\n<p>Just follow...           473  \n",
              "3  <p>I got this error because I forgot the <code...           425  \n",
              "4  <h2>Update For Node.js / NPM</h2>\\n<p>Add <a h...           375  "
            ],
            "text/html": [
              "\n",
              "  <div id=\"df-22bda3c6-3815-45b8-a112-e8805313ef98\" class=\"colab-df-container\">\n",
              "    <div>\n",
              "<style scoped>\n",
              "    .dataframe tbody tr th:only-of-type {\n",
              "        vertical-align: middle;\n",
              "    }\n",
              "\n",
              "    .dataframe tbody tr th {\n",
              "        vertical-align: top;\n",
              "    }\n",
              "\n",
              "    .dataframe thead th {\n",
              "        text-align: right;\n",
              "    }\n",
              "</style>\n",
              "<table border=\"1\" class=\"dataframe\">\n",
              "  <thead>\n",
              "    <tr style=\"text-align: right;\">\n",
              "      <th></th>\n",
              "      <th>question_id</th>\n",
              "      <th>question_title</th>\n",
              "      <th>question_body</th>\n",
              "      <th>question_score</th>\n",
              "      <th>question_tags</th>\n",
              "      <th>answer_id</th>\n",
              "      <th>answer_body</th>\n",
              "      <th>answer_score</th>\n",
              "    </tr>\n",
              "  </thead>\n",
              "  <tbody>\n",
              "    <tr>\n",
              "      <th>0</th>\n",
              "      <td>55921442</td>\n",
              "      <td>How to fix \"ReferenceError: primordials is not...</td>\n",
              "      <td>&lt;p&gt;I have installed Node.js modules by 'npm in...</td>\n",
              "      <td>804</td>\n",
              "      <td>node.js|sass|gulp|gulp-sass</td>\n",
              "      <td>55926692</td>\n",
              "      <td>&lt;p&gt;I hit the same error. I suspect you're usin...</td>\n",
              "      <td>868</td>\n",
              "    </tr>\n",
              "    <tr>\n",
              "      <th>1</th>\n",
              "      <td>55921442</td>\n",
              "      <td>How to fix \"ReferenceError: primordials is not...</td>\n",
              "      <td>&lt;p&gt;I have installed Node.js modules by 'npm in...</td>\n",
              "      <td>804</td>\n",
              "      <td>node.js|sass|gulp|gulp-sass</td>\n",
              "      <td>58394828</td>\n",
              "      <td>&lt;p&gt;We encountered the same issue when updating...</td>\n",
              "      <td>820</td>\n",
              "    </tr>\n",
              "    <tr>\n",
              "      <th>2</th>\n",
              "      <td>55921442</td>\n",
              "      <td>How to fix \"ReferenceError: primordials is not...</td>\n",
              "      <td>&lt;p&gt;I have installed Node.js modules by 'npm in...</td>\n",
              "      <td>804</td>\n",
              "      <td>node.js|sass|gulp|gulp-sass</td>\n",
              "      <td>60921145</td>\n",
              "      <td>&lt;h1&gt;Fix it in one minute:&lt;/h1&gt;\\n&lt;p&gt;Just follow...</td>\n",
              "      <td>473</td>\n",
              "    </tr>\n",
              "    <tr>\n",
              "      <th>3</th>\n",
              "      <td>58211880</td>\n",
              "      <td>\"Uncaught SyntaxError: Cannot use import state...</td>\n",
              "      <td>&lt;p&gt;I'm using ArcGIS JSAPI 4.12 and wish to use...</td>\n",
              "      <td>796</td>\n",
              "      <td>javascript|ecmascript-6|arcgis|arcgis-js-api</td>\n",
              "      <td>58679392</td>\n",
              "      <td>&lt;p&gt;I got this error because I forgot the &lt;code...</td>\n",
              "      <td>425</td>\n",
              "    </tr>\n",
              "    <tr>\n",
              "      <th>4</th>\n",
              "      <td>58211880</td>\n",
              "      <td>\"Uncaught SyntaxError: Cannot use import state...</td>\n",
              "      <td>&lt;p&gt;I'm using ArcGIS JSAPI 4.12 and wish to use...</td>\n",
              "      <td>796</td>\n",
              "      <td>javascript|ecmascript-6|arcgis|arcgis-js-api</td>\n",
              "      <td>64655153</td>\n",
              "      <td>&lt;h2&gt;Update For Node.js / NPM&lt;/h2&gt;\\n&lt;p&gt;Add &lt;a h...</td>\n",
              "      <td>375</td>\n",
              "    </tr>\n",
              "  </tbody>\n",
              "</table>\n",
              "</div>\n",
              "    <div class=\"colab-df-buttons\">\n",
              "\n",
              "  <div class=\"colab-df-container\">\n",
              "    <button class=\"colab-df-convert\" onclick=\"convertToInteractive('df-22bda3c6-3815-45b8-a112-e8805313ef98')\"\n",
              "            title=\"Convert this dataframe to an interactive table.\"\n",
              "            style=\"display:none;\">\n",
              "\n",
              "  <svg xmlns=\"http://www.w3.org/2000/svg\" height=\"24px\" viewBox=\"0 -960 960 960\">\n",
              "    <path d=\"M120-120v-720h720v720H120Zm60-500h600v-160H180v160Zm220 220h160v-160H400v160Zm0 220h160v-160H400v160ZM180-400h160v-160H180v160Zm440 0h160v-160H620v160ZM180-180h160v-160H180v160Zm440 0h160v-160H620v160Z\"/>\n",
              "  </svg>\n",
              "    </button>\n",
              "\n",
              "  <style>\n",
              "    .colab-df-container {\n",
              "      display:flex;\n",
              "      gap: 12px;\n",
              "    }\n",
              "\n",
              "    .colab-df-convert {\n",
              "      background-color: #E8F0FE;\n",
              "      border: none;\n",
              "      border-radius: 50%;\n",
              "      cursor: pointer;\n",
              "      display: none;\n",
              "      fill: #1967D2;\n",
              "      height: 32px;\n",
              "      padding: 0 0 0 0;\n",
              "      width: 32px;\n",
              "    }\n",
              "\n",
              "    .colab-df-convert:hover {\n",
              "      background-color: #E2EBFA;\n",
              "      box-shadow: 0px 1px 2px rgba(60, 64, 67, 0.3), 0px 1px 3px 1px rgba(60, 64, 67, 0.15);\n",
              "      fill: #174EA6;\n",
              "    }\n",
              "\n",
              "    .colab-df-buttons div {\n",
              "      margin-bottom: 4px;\n",
              "    }\n",
              "\n",
              "    [theme=dark] .colab-df-convert {\n",
              "      background-color: #3B4455;\n",
              "      fill: #D2E3FC;\n",
              "    }\n",
              "\n",
              "    [theme=dark] .colab-df-convert:hover {\n",
              "      background-color: #434B5C;\n",
              "      box-shadow: 0px 1px 3px 1px rgba(0, 0, 0, 0.15);\n",
              "      filter: drop-shadow(0px 1px 2px rgba(0, 0, 0, 0.3));\n",
              "      fill: #FFFFFF;\n",
              "    }\n",
              "  </style>\n",
              "\n",
              "    <script>\n",
              "      const buttonEl =\n",
              "        document.querySelector('#df-22bda3c6-3815-45b8-a112-e8805313ef98 button.colab-df-convert');\n",
              "      buttonEl.style.display =\n",
              "        google.colab.kernel.accessAllowed ? 'block' : 'none';\n",
              "\n",
              "      async function convertToInteractive(key) {\n",
              "        const element = document.querySelector('#df-22bda3c6-3815-45b8-a112-e8805313ef98');\n",
              "        const dataTable =\n",
              "          await google.colab.kernel.invokeFunction('convertToInteractive',\n",
              "                                                    [key], {});\n",
              "        if (!dataTable) return;\n",
              "\n",
              "        const docLinkHtml = 'Like what you see? Visit the ' +\n",
              "          '<a target=\"_blank\" href=https://colab.research.google.com/notebooks/data_table.ipynb>data table notebook</a>'\n",
              "          + ' to learn more about interactive tables.';\n",
              "        element.innerHTML = '';\n",
              "        dataTable['output_type'] = 'display_data';\n",
              "        await google.colab.output.renderOutput(dataTable, element);\n",
              "        const docLink = document.createElement('div');\n",
              "        docLink.innerHTML = docLinkHtml;\n",
              "        element.appendChild(docLink);\n",
              "      }\n",
              "    </script>\n",
              "  </div>\n",
              "\n",
              "\n",
              "<div id=\"df-914d32da-c9f2-4f03-9680-b296bb540aa0\">\n",
              "  <button class=\"colab-df-quickchart\" onclick=\"quickchart('df-914d32da-c9f2-4f03-9680-b296bb540aa0')\"\n",
              "            title=\"Suggest charts\"\n",
              "            style=\"display:none;\">\n",
              "\n",
              "<svg xmlns=\"http://www.w3.org/2000/svg\" height=\"24px\"viewBox=\"0 0 24 24\"\n",
              "     width=\"24px\">\n",
              "    <g>\n",
              "        <path d=\"M19 3H5c-1.1 0-2 .9-2 2v14c0 1.1.9 2 2 2h14c1.1 0 2-.9 2-2V5c0-1.1-.9-2-2-2zM9 17H7v-7h2v7zm4 0h-2V7h2v10zm4 0h-2v-4h2v4z\"/>\n",
              "    </g>\n",
              "</svg>\n",
              "  </button>\n",
              "\n",
              "<style>\n",
              "  .colab-df-quickchart {\n",
              "      --bg-color: #E8F0FE;\n",
              "      --fill-color: #1967D2;\n",
              "      --hover-bg-color: #E2EBFA;\n",
              "      --hover-fill-color: #174EA6;\n",
              "      --disabled-fill-color: #AAA;\n",
              "      --disabled-bg-color: #DDD;\n",
              "  }\n",
              "\n",
              "  [theme=dark] .colab-df-quickchart {\n",
              "      --bg-color: #3B4455;\n",
              "      --fill-color: #D2E3FC;\n",
              "      --hover-bg-color: #434B5C;\n",
              "      --hover-fill-color: #FFFFFF;\n",
              "      --disabled-bg-color: #3B4455;\n",
              "      --disabled-fill-color: #666;\n",
              "  }\n",
              "\n",
              "  .colab-df-quickchart {\n",
              "    background-color: var(--bg-color);\n",
              "    border: none;\n",
              "    border-radius: 50%;\n",
              "    cursor: pointer;\n",
              "    display: none;\n",
              "    fill: var(--fill-color);\n",
              "    height: 32px;\n",
              "    padding: 0;\n",
              "    width: 32px;\n",
              "  }\n",
              "\n",
              "  .colab-df-quickchart:hover {\n",
              "    background-color: var(--hover-bg-color);\n",
              "    box-shadow: 0 1px 2px rgba(60, 64, 67, 0.3), 0 1px 3px 1px rgba(60, 64, 67, 0.15);\n",
              "    fill: var(--button-hover-fill-color);\n",
              "  }\n",
              "\n",
              "  .colab-df-quickchart-complete:disabled,\n",
              "  .colab-df-quickchart-complete:disabled:hover {\n",
              "    background-color: var(--disabled-bg-color);\n",
              "    fill: var(--disabled-fill-color);\n",
              "    box-shadow: none;\n",
              "  }\n",
              "\n",
              "  .colab-df-spinner {\n",
              "    border: 2px solid var(--fill-color);\n",
              "    border-color: transparent;\n",
              "    border-bottom-color: var(--fill-color);\n",
              "    animation:\n",
              "      spin 1s steps(1) infinite;\n",
              "  }\n",
              "\n",
              "  @keyframes spin {\n",
              "    0% {\n",
              "      border-color: transparent;\n",
              "      border-bottom-color: var(--fill-color);\n",
              "      border-left-color: var(--fill-color);\n",
              "    }\n",
              "    20% {\n",
              "      border-color: transparent;\n",
              "      border-left-color: var(--fill-color);\n",
              "      border-top-color: var(--fill-color);\n",
              "    }\n",
              "    30% {\n",
              "      border-color: transparent;\n",
              "      border-left-color: var(--fill-color);\n",
              "      border-top-color: var(--fill-color);\n",
              "      border-right-color: var(--fill-color);\n",
              "    }\n",
              "    40% {\n",
              "      border-color: transparent;\n",
              "      border-right-color: var(--fill-color);\n",
              "      border-top-color: var(--fill-color);\n",
              "    }\n",
              "    60% {\n",
              "      border-color: transparent;\n",
              "      border-right-color: var(--fill-color);\n",
              "    }\n",
              "    80% {\n",
              "      border-color: transparent;\n",
              "      border-right-color: var(--fill-color);\n",
              "      border-bottom-color: var(--fill-color);\n",
              "    }\n",
              "    90% {\n",
              "      border-color: transparent;\n",
              "      border-bottom-color: var(--fill-color);\n",
              "    }\n",
              "  }\n",
              "</style>\n",
              "\n",
              "  <script>\n",
              "    async function quickchart(key) {\n",
              "      const quickchartButtonEl =\n",
              "        document.querySelector('#' + key + ' button');\n",
              "      quickchartButtonEl.disabled = true;  // To prevent multiple clicks.\n",
              "      quickchartButtonEl.classList.add('colab-df-spinner');\n",
              "      try {\n",
              "        const charts = await google.colab.kernel.invokeFunction(\n",
              "            'suggestCharts', [key], {});\n",
              "      } catch (error) {\n",
              "        console.error('Error during call to suggestCharts:', error);\n",
              "      }\n",
              "      quickchartButtonEl.classList.remove('colab-df-spinner');\n",
              "      quickchartButtonEl.classList.add('colab-df-quickchart-complete');\n",
              "    }\n",
              "    (() => {\n",
              "      let quickchartButtonEl =\n",
              "        document.querySelector('#df-914d32da-c9f2-4f03-9680-b296bb540aa0 button');\n",
              "      quickchartButtonEl.style.display =\n",
              "        google.colab.kernel.accessAllowed ? 'block' : 'none';\n",
              "    })();\n",
              "  </script>\n",
              "</div>\n",
              "\n",
              "    </div>\n",
              "  </div>\n"
            ],
            "application/vnd.google.colaboratory.intrinsic+json": {
              "type": "dataframe",
              "variable_name": "df",
              "summary": "{\n  \"name\": \"df\",\n  \"rows\": 100,\n  \"fields\": [\n    {\n      \"column\": \"question_id\",\n      \"properties\": {\n        \"dtype\": \"Int64\",\n        \"num_unique_values\": 35,\n        \"samples\": [\n          57259126,\n          55763428,\n          58972251\n        ],\n        \"semantic_type\": \"\",\n        \"description\": \"\"\n      }\n    },\n    {\n      \"column\": \"question_title\",\n      \"properties\": {\n        \"dtype\": \"category\",\n        \"num_unique_values\": 35,\n        \"samples\": [\n          \"Why does the Rust compiler not optimize code assuming that two mutable references cannot alias?\",\n          \"React Native Error: ENOSPC: System limit for number of file watchers reached\",\n          \"What does 'x packages are looking for funding' mean when running `npm install`?\"\n        ],\n        \"semantic_type\": \"\",\n        \"description\": \"\"\n      }\n    },\n    {\n      \"column\": \"question_body\",\n      \"properties\": {\n        \"dtype\": \"category\",\n        \"num_unique_values\": 35,\n        \"samples\": [\n          \"<p>As far as I know, reference/pointer aliasing can hinder the compiler's ability to generate optimized code, since they must ensure the generated binary behaves correctly in the case where the two references/pointers indeed alias. For instance, in the following C code,</p>\\n<pre class=\\\"lang-c prettyprint-override\\\"><code>void adds(int *a, int *b) {\\n    *a += *b;\\n    *a += *b;\\n}\\n</code></pre>\\n<p>when compiled by <code>clang version 6.0.0-1ubuntu2 (tags/RELEASE_600/final)</code> with the <code>-O3</code> flag, it emits</p>\\n<pre class=\\\"lang-none prettyprint-override\\\"><code>0000000000000000 &lt;adds&gt;:\\n   0:    8b 07                    mov    (%rdi),%eax  # load a into EAX\\n   2:    03 06                    add    (%rsi),%eax  # load-and-add b\\n   4:    89 07                    mov    %eax,(%rdi)  # store into a\\n   6:    03 06                    add    (%rsi),%eax  # load-and-add b again\\n   8:    89 07                    mov    %eax,(%rdi)  # store into a again\\n   a:    c3                       retq\\n</code></pre>\\n<p>Here the code stores back to <code>(%rdi)</code> twice in case <code>int *a</code> and <code>int *b</code> alias.</p>\\n<p>When we explicitly tell the compiler that these two pointers cannot alias with the <code>restrict</code> keyword:</p>\\n<pre class=\\\"lang-c prettyprint-override\\\"><code>void adds(int *restrict a, int *restrict b) {\\n    *a += *b;\\n    *a += *b;\\n}\\n</code></pre>\\n<p>Then Clang will emit a more optimized version that effectively does <code>*a += 2 * (*b)</code>, which is equivalent if (as promised by <code>restrict</code>) <code>*b</code> isn't modified by assigning to <code>*a</code>:</p>\\n<pre class=\\\"lang-none prettyprint-override\\\"><code>0000000000000000 &lt;adds&gt;:\\n   0:    8b 06                    mov    (%rsi),%eax   # load b once\\n   2:    01 c0                    add    %eax,%eax     # double it\\n   4:    01 07                    add    %eax,(%rdi)   # *a += 2 * (*b)\\n   6:    c3                       retq\\n</code></pre>\\n<p>Since Rust makes sure (except in unsafe code) that two mutable references cannot alias, I would think that the compiler should be able to emit the more optimized version of the code.</p>\\n<p>When I test with the code below and compile it with <code>rustc 1.35.0</code> with <code>-C opt-level=3 --emit obj</code>,</p>\\n<pre class=\\\"lang-rust prettyprint-override\\\"><code>#![crate_type = &quot;staticlib&quot;]\\n#[no_mangle]\\nfn adds(a: &amp;mut i32, b: &amp;mut i32) {\\n    *a += *b;\\n    *a += *b;\\n}\\n</code></pre>\\n<p>it generates:</p>\\n<pre class=\\\"lang-none prettyprint-override\\\"><code>0000000000000000 &lt;adds&gt;:\\n   0:    8b 07                    mov    (%rdi),%eax\\n   2:    03 06                    add    (%rsi),%eax\\n   4:    89 07                    mov    %eax,(%rdi)\\n   6:    03 06                    add    (%rsi),%eax\\n   8:    89 07                    mov    %eax,(%rdi)\\n   a:    c3                       retq\\n</code></pre>\\n<p>This does not take advantage of the guarantee that <code>a</code> and <code>b</code> cannot alias.</p>\\n<p>Is this because the current Rust compiler is still in development and has not yet incorporated alias analysis to do the optimization?</p>\\n<p>Is this because there is still a chance that <code>a</code> and <code>b</code> could alias, even in safe Rust?</p>\",\n          \"<p>I have setup a new blank react native app.</p>\\n<p>After installing few node modules  I got this error.</p>\\n<pre><code>Running application on PGN518.\\ninternal/fs/watchers.js:173\\n   throw error;\\n   ^\\n\\nError: ENOSPC: System limit for number of file watchers reached, watch '/home/badis/Desktop/react-native/albums/node_modules/.staging'\\n   at FSWatcher.start (internal/fs/watchers.js:165:26)\\n   at Object.watch (fs.js:1253:11)\\n   at NodeWatcher.watchdir (/home/badis/Desktop/react-native/albums/node modules/sane/src/node watcher. js:175:20)\\n   at NodeWatcher.&lt;anonymous&gt; (/home/badis/Desktop/react-native/albums/node modules/sane/src/node watcher. js:310:16)\\n   at /home/badis/Desktop/react-native/albums/node modules/graceful-fs/polyfills.js:285:20\\n   at FSReqWrap.oncomplete (fs.js:154:5)\\n</code></pre>\\n<p>I know it's related to no enough space for watchman to watch for all file changes.</p>\\n<p>I want to know what's the best course of action to take here ?</p>\\n<p>Should I ignore <code>node_modules</code> folder by adding it to <code>.watchmanconfig</code> ?</p>\",\n          \"<p>I usually get <strong><code>\\\"x packages are looking for funding.\\\"</code></strong> when running <code>npm install</code> on a <code>react</code> project. Any idea what that means?</p>\"\n        ],\n        \"semantic_type\": \"\",\n        \"description\": \"\"\n      }\n    },\n    {\n      \"column\": \"question_score\",\n      \"properties\": {\n        \"dtype\": \"Int64\",\n        \"num_unique_values\": 34,\n        \"samples\": [\n          452,\n          414,\n          364\n        ],\n        \"semantic_type\": \"\",\n        \"description\": \"\"\n      }\n    },\n    {\n      \"column\": \"question_tags\",\n      \"properties\": {\n        \"dtype\": \"category\",\n        \"num_unique_values\": 33,\n        \"samples\": [\n          \"c++|c|warnings|compiler-warnings|c++-faq\",\n          \"git\",\n          \"python|matplotlib|pycharm\"\n        ],\n        \"semantic_type\": \"\",\n        \"description\": \"\"\n      }\n    },\n    {\n      \"column\": \"answer_id\",\n      \"properties\": {\n        \"dtype\": \"Int64\",\n        \"num_unique_values\": 100,\n        \"samples\": [\n          57668093,\n          64217699,\n          61004654\n        ],\n        \"semantic_type\": \"\",\n        \"description\": \"\"\n      }\n    },\n    {\n      \"column\": \"answer_body\",\n      \"properties\": {\n        \"dtype\": \"string\",\n        \"num_unique_values\": 100,\n        \"samples\": [\n          \"<p>If you just want to change the indentation you can set these options:<br />\\nPress Ctrl+Shift+P -&gt; Go to Preferences: Open Settings (JSON)</p>\\n<pre><code>&quot;workbench.tree.indent&quot;: 18,\\n</code></pre>\\n<p>You can add guidelines as well with:</p>\\n<pre><code>&quot;workbench.tree.renderIndentGuides&quot;: &quot;always&quot;,\\n</code></pre>\\n<p>You can also change their color using:</p>\\n<pre><code>&quot;workbench.colorCustomizations&quot;: {\\n    &quot;tree.indentGuidesStroke&quot;: &quot;#008070&quot;\\n},\\n</code></pre>\",\n          \"<p>When using <code>Object.keys</code>, the following works:</p>\\n<pre><code>Object.keys(this)\\n    .forEach(key =&gt; {\\n      console.log(this[key as keyof MyClass]);\\n    });\\n</code></pre>\",\n          \"<p>When you run <code>npm update</code> in the command prompt, when it is done it will recommend you type a new command called <code>npm fund</code>.</p>\\n<p><strong>When you run <code>npm fund</code> it will list all the modules and packages you have installed that were created by companies or organizations that need <em>money</em> for their IT projects.</strong> You will see a list of webpages where you can send them money. So &quot;funds&quot; means &quot;Angular packages you installed that could use some money from you as an option to help support their businesses&quot;.</p>\\n<p>It's basically a list of the modules you have that need contributions or donations of money to their projects and which list websites where you can enter a credit card to help pay for them.</p>\"\n        ],\n        \"semantic_type\": \"\",\n        \"description\": \"\"\n      }\n    },\n    {\n      \"column\": \"answer_score\",\n      \"properties\": {\n        \"dtype\": \"Int64\",\n        \"num_unique_values\": 93,\n        \"samples\": [\n          497,\n          181,\n          606\n        ],\n        \"semantic_type\": \"\",\n        \"description\": \"\"\n      }\n    }\n  ]\n}"
            }
          },
          "metadata": {},
          "execution_count": 22
        }
      ]
    },
    {
      "cell_type": "code",
      "source": [
        "import nltk\n",
        "from nltk.stem import WordNetLemmatizer\n",
        "from nltk.corpus import wordnet\n",
        "from nltk.tokenize import word_tokenize\n",
        "from bs4 import BeautifulSoup\n",
        "import re\n",
        "\n",
        "# Download necessary NLTK resources\n",
        "nltk.download('punkt')\n",
        "nltk.download('averaged_perceptron_tagger')\n",
        "nltk.download('wordnet')\n",
        "\n",
        "def clean_html(raw_html):\n",
        "    \"\"\"Remove HTML tags from a string.\"\"\"\n",
        "    soup = BeautifulSoup(raw_html, \"html.parser\")\n",
        "    return soup.get_text()\n",
        "\n",
        "def get_wordnet_pos(treebank_tag):\n",
        "    \"\"\"Convert treebank tags to wordnet tags.\"\"\"\n",
        "    if treebank_tag.startswith('J'):\n",
        "        return wordnet.ADJ\n",
        "    elif treebank_tag.startswith('V'):\n",
        "        return wordnet.VERB\n",
        "    elif treebank_tag.startswith('N'):\n",
        "        return wordnet.NOUN\n",
        "    elif treebank_tag.startswith('R'):\n",
        "        return wordnet.ADV\n",
        "    else:\n",
        "        return wordnet.NOUN\n",
        "\n",
        "def lemmatize_text(text):\n",
        "    \"\"\"Tokenize and lemmatize a given text.\"\"\"\n",
        "    lemmatizer = WordNetLemmatizer()\n",
        "    # Tokenize the text\n",
        "    tokens = word_tokenize(text)\n",
        "    # Get part of speech for each token\n",
        "    pos_tags = nltk.pos_tag(tokens)\n",
        "    # Lemmatize each token based on its part of speech\n",
        "    lemmas = [lemmatizer.lemmatize(token, pos=get_wordnet_pos(pos)) for token, pos in pos_tags]\n",
        "    return ' '.join(lemmas)\n"
      ],
      "metadata": {
        "colab": {
          "base_uri": "https://localhost:8080/"
        },
        "id": "9Hf91vcStaGf",
        "outputId": "75b8973c-2db4-424b-fe20-c39b8a7e03fb"
      },
      "execution_count": 23,
      "outputs": [
        {
          "output_type": "stream",
          "name": "stderr",
          "text": [
            "[nltk_data] Downloading package punkt to /root/nltk_data...\n",
            "[nltk_data]   Package punkt is already up-to-date!\n",
            "[nltk_data] Downloading package averaged_perceptron_tagger to\n",
            "[nltk_data]     /root/nltk_data...\n",
            "[nltk_data]   Package averaged_perceptron_tagger is already up-to-\n",
            "[nltk_data]       date!\n",
            "[nltk_data] Downloading package wordnet to /root/nltk_data...\n",
            "[nltk_data]   Package wordnet is already up-to-date!\n"
          ]
        }
      ]
    },
    {
      "cell_type": "code",
      "source": [
        "def preprocess_text(raw_html):\n",
        "    text = clean_html(raw_html)\n",
        "    text = re.sub(r'\\s+', ' ', text)  # Remove extra whitespace\n",
        "    return text\n",
        "\n",
        "def decontract(phrase):\n",
        "    phrase = re.sub(r\"won\\'t\", \"will not\", phrase)\n",
        "    phrase = re.sub(r\"can\\'t\", \"cannot\", phrase)\n",
        "    phrase = re.sub(r\"n\\'t\", \" not\", phrase)\n",
        "    phrase = re.sub(r\"\\'re\", \" are\", phrase)\n",
        "    phrase = re.sub(r\"\\'s\", \" is\", phrase)\n",
        "    phrase = re.sub(r\"\\'d\", \" would\", phrase)\n",
        "    phrase = re.sub(r\"\\'ll\", \" will\", phrase)\n",
        "    phrase = re.sub(r\"\\'t\", \" not\", phrase)\n",
        "    phrase = re.sub(r\"\\'ve\", \" have\", phrase)\n",
        "    phrase = re.sub(r\"\\'m\", \" am\", phrase)\n",
        "    return phrase\n",
        "\n",
        "df['question_title'] = df['question_title'].apply(preprocess_text)\n",
        "df['question_body'] = df['question_body'].apply(preprocess_text)\n",
        "df['answer_body'] = df['answer_body'].apply(preprocess_text)\n",
        "df['question_title'] = df['question_title'].apply(decontract)\n",
        "df['question_body'] = df['question_body'].apply(decontract)\n",
        "df['answer_body'] = df['answer_body'].apply(decontract)\n",
        "\n",
        "df['lemmatized_question_title'] = df['question_title'].apply(lemmatize_text)\n",
        "df['lemmatized_question_body'] = df['question_body'].apply(lemmatize_text)\n",
        "df['lemmatized_answer_body'] = df['answer_body'].apply(lemmatize_text)\n"
      ],
      "metadata": {
        "colab": {
          "base_uri": "https://localhost:8080/"
        },
        "id": "h4Z9yBy_ujph",
        "outputId": "5a502e52-e757-43f7-9b93-6d61a846bc23"
      },
      "execution_count": 24,
      "outputs": [
        {
          "output_type": "stream",
          "name": "stderr",
          "text": [
            "<ipython-input-23-632e339656fb>:15: MarkupResemblesLocatorWarning: The input looks more like a filename than markup. You may want to open this file and pass the filehandle into Beautiful Soup.\n",
            "  soup = BeautifulSoup(raw_html, \"html.parser\")\n"
          ]
        }
      ]
    },
    {
      "cell_type": "code",
      "source": [
        "df['lemmatized_question_body'].head()"
      ],
      "metadata": {
        "colab": {
          "base_uri": "https://localhost:8080/"
        },
        "id": "wtRJv3MevfwA",
        "outputId": "e3301a96-e52a-4dbc-e6b1-f311136a7cd5"
      },
      "execution_count": 26,
      "outputs": [
        {
          "output_type": "execute_result",
          "data": {
            "text/plain": [
              "0    I have instal Node.js module by 'npm install '...\n",
              "1    I have instal Node.js module by 'npm install '...\n",
              "2    I have instal Node.js module by 'npm install '...\n",
              "3    I be use ArcGIS JSAPI 4.12 and wish to use Spa...\n",
              "4    I be use ArcGIS JSAPI 4.12 and wish to use Spa...\n",
              "Name: lemmatized_question_body, dtype: object"
            ]
          },
          "metadata": {},
          "execution_count": 26
        }
      ]
    },
    {
      "cell_type": "code",
      "source": [
        "print(df.info())\n",
        "print(df[df.duplicated()])"
      ],
      "metadata": {
        "colab": {
          "base_uri": "https://localhost:8080/"
        },
        "id": "dT9R1PIQ0QSL",
        "outputId": "3182e145-7829-4ac4-e969-9d3d2e2c3eb7"
      },
      "execution_count": 27,
      "outputs": [
        {
          "output_type": "stream",
          "name": "stdout",
          "text": [
            "<class 'pandas.core.frame.DataFrame'>\n",
            "RangeIndex: 100 entries, 0 to 99\n",
            "Data columns (total 11 columns):\n",
            " #   Column                     Non-Null Count  Dtype \n",
            "---  ------                     --------------  ----- \n",
            " 0   question_id                100 non-null    Int64 \n",
            " 1   question_title             100 non-null    object\n",
            " 2   question_body              100 non-null    object\n",
            " 3   question_score             100 non-null    Int64 \n",
            " 4   question_tags              100 non-null    object\n",
            " 5   answer_id                  100 non-null    Int64 \n",
            " 6   answer_body                100 non-null    object\n",
            " 7   answer_score               100 non-null    Int64 \n",
            " 8   lemmatized_question_title  100 non-null    object\n",
            " 9   lemmatized_question_body   100 non-null    object\n",
            " 10  lemmatized_answer_body     100 non-null    object\n",
            "dtypes: Int64(4), object(7)\n",
            "memory usage: 9.1+ KB\n",
            "None\n",
            "Empty DataFrame\n",
            "Columns: [question_id, question_title, question_body, question_score, question_tags, answer_id, answer_body, answer_score, lemmatized_question_title, lemmatized_question_body, lemmatized_answer_body]\n",
            "Index: []\n"
          ]
        }
      ]
    },
    {
      "cell_type": "code",
      "source": [
        "import seaborn as sns\n",
        "import matplotlib.pyplot as plt\n",
        "import numpy as np\n",
        "\n",
        "df['question_body_len'] = df['lemmatized_question_body'].apply(lambda words: len(words.split()))\n",
        "max_seq_len = np.round(df['question_body_len'].mean() + df['question_body_len'].std()).astype(int)\n",
        "sns.histplot(df['question_body_len'], kde=True, color='b', label='Question Body Length')\n",
        "plt.axvline(x=max_seq_len, color='k', linestyle='--', label='1 STD post length')\n",
        "plt.title('post length'); plt.legend()\n",
        "plt.show()"
      ],
      "metadata": {
        "colab": {
          "base_uri": "https://localhost:8080/",
          "height": 472
        },
        "id": "qaYqfy_o0phI",
        "outputId": "05f30208-7e49-448c-abde-953e61b3d7a8"
      },
      "execution_count": 34,
      "outputs": [
        {
          "output_type": "display_data",
          "data": {
            "text/plain": [
              "<Figure size 640x480 with 1 Axes>"
            ],
            "image/png": "[encoded data removed]"
          },
          "metadata": {}
        }
      ]
    },
    {
      "cell_type": "code",
      "source": [
        "df['question_title_len'] = df['lemmatized_question_title'].apply(lambda words: len(words.split()))\n",
        "max_seq_len = np.round(df['question_title_len'].mean() + df['question_title_len'].std()).astype(int)\n",
        "sns.histplot(df['question_title_len'], kde=True, color='b', label='Question Title Length')\n",
        "plt.axvline(x=max_seq_len, color='k', linestyle='--', label='one STD title length')\n",
        "plt.title('question title length'); plt.legend()\n",
        "plt.show()"
      ],
      "metadata": {
        "colab": {
          "base_uri": "https://localhost:8080/",
          "height": 472
        },
        "id": "fXqwwgSt19aw",
        "outputId": "9ad174ba-ebaf-436d-f59c-94901be8749d"
      },
      "execution_count": 35,
      "outputs": [
        {
          "output_type": "display_data",
          "data": {
            "text/plain": [
              "<Figure size 640x480 with 1 Axes>"
            ],
            "image/png": "[encoded data removed]"
          },
          "metadata": {}
        }
      ]
    },
    {
      "cell_type": "code",
      "source": [
        "sns.histplot(df['question_score'], kde=True, color='b', label='question score distribution')\n",
        "plt.title('Score per question'); plt.legend()\n",
        "plt.show()"
      ],
      "metadata": {
        "colab": {
          "base_uri": "https://localhost:8080/",
          "height": 472
        },
        "id": "QTBUTq9F1Ofx",
        "outputId": "0b646749-9c09-4957-ced5-209a455e09f0"
      },
      "execution_count": 36,
      "outputs": [
        {
          "output_type": "display_data",
          "data": {
            "text/plain": [
              "<Figure size 640x480 with 1 Axes>"
            ],
            "image/png": "[encoded data removed]"
          },
          "metadata": {}
        }
      ]
    },
    {
      "cell_type": "code",
      "source": [
        "df.to_csv('stackoverflow-100', index=False)"
      ],
      "metadata": {
        "id": "5si-WMQu5aPA"
      },
      "execution_count": 37,
      "outputs": []
    }
  ]
}